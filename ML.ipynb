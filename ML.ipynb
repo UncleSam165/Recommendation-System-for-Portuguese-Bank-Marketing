{
  "nbformat": 4,
  "nbformat_minor": 0,
  "metadata": {
    "accelerator": "GPU",
    "colab": {
      "name": "ML.ipynb",
      "provenance": [],
      "collapsed_sections": [
        "6YFnqkvNtswj"
      ],
      "toc_visible": true
    },
    "kernelspec": {
      "display_name": "Python 3",
      "language": "python",
      "name": "python3"
    },
    "language_info": {
      "codemirror_mode": {
        "name": "ipython",
        "version": 3
      },
      "file_extension": ".py",
      "mimetype": "text/x-python",
      "name": "python",
      "nbconvert_exporter": "python",
      "pygments_lexer": "ipython3",
      "version": "3.8.5"
    }
  },
  "cells": [
    {
      "cell_type": "markdown",
      "metadata": {
        "id": "yyWcrbrwtswF"
      },
      "source": [
        "\n",
        "# Project: Bank Marketing\n",
        "\n",
        "\n"
      ]
    },
    {
      "cell_type": "markdown",
      "metadata": {
        "id": "PUK__Vaq7KTd"
      },
      "source": [
        "## Table of Contents\n"
      ]
    },
    {
      "cell_type": "markdown",
      "metadata": {
        "id": "uE-G7Ze47R1B"
      },
      "source": [
        "<ul>\n",
        "<li><a href=\"#intro\">Problem definition and motivation</a></li>\n",
        "<li><a href=\"#General Properties\">General Properties</a></li>\n",
        "<li><a href=\"#Data Cleaning\">Data Cleaning</a></li>\n",
        "<li><a href=\"#eda\">Data exploration and preprocessing</a></li>\n",
        "<li><a href=\"#classification\"> Fit different classification models </a></li>\n",
        "<li><a href=\"#conclusions\">Conclusions</a></li>\n",
        "</ul>\n"
      ]
    },
    {
      "cell_type": "markdown",
      "metadata": {
        "id": "M7OPewR7tswV"
      },
      "source": [
        "<a id='intro'></a>\n",
        "## Problem definition and motivation\n",
        "\n"
      ]
    },
    {
      "cell_type": "markdown",
      "metadata": {
        "id": "g3s7oH7V6P_X"
      },
      "source": [
        ">  Marketing is such a crucial thing for any business. It may determine if the business is going to\n",
        "succeed or not. The project we are trying to tackle is the effectiveness of a certain marketing technique\n",
        "with a certain target audience. More specifically, we want to predict if a bank’s marketing campaign will\n",
        "drive people to deposit money in the bank with the knowledge of their personal information such as\n",
        "age, job, marital status and education and other information as the last time he was contacted by us. The data was collected for a marketing campaign from bank clients to determine whether the\n",
        "client will subscribe to a term deposit or not. It consists of 45,211 rows and 17 columns\n",
        "The data attributes are divided into input variables - information about the client - and output which is a\n",
        "subscription to a term deposit.\n"
      ]
    },
    {
      "cell_type": "code",
      "metadata": {
        "id": "SyikCUErtswW"
      },
      "source": [
        " # First I import the packages that I will  use to facilitate the process of analysis the dataset\n",
        "import pandas as pd\n",
        "import numpy as np\n",
        "import matplotlib.pyplot as plt\n",
        "import seaborn as sns\n",
        "from sklearn.model_selection import train_test_split\n",
        "from sklearn.ensemble import RandomForestClassifier\n",
        "from sklearn import metrics\n",
        "from sklearn.metrics import confusion_matrix\n",
        "from sklearn.metrics import precision_score, recall_score, accuracy_score, f1_score\n",
        "\n",
        "from imblearn.over_sampling import RandomOverSampler\n",
        "from imblearn.under_sampling import RandomUnderSampler\n",
        "\n",
        "import warnings\n",
        "warnings.filterwarnings('ignore')\n",
        "\n",
        "%matplotlib inline"
      ],
      "execution_count": null,
      "outputs": []
    },
    {
      "cell_type": "markdown",
      "metadata": {
        "id": "-IblDE29tswY"
      },
      "source": [
        "<a id='General Properties'></a>\n",
        "## General Properties\n",
        "\n"
      ]
    },
    {
      "cell_type": "markdown",
      "metadata": {
        "id": "-DDIsafeTD__"
      },
      "source": [
        "**The data are collected via phone calls by a Portuguese retail bank, from May 2008 to June 2013.**"
      ]
    },
    {
      "cell_type": "code",
      "metadata": {
        "colab": {
          "base_uri": "https://localhost:8080/",
          "height": 379
        },
        "id": "FHal0z6WtswY",
        "outputId": "44d9cc59-66f3-4655-8da6-de2ae651e765"
      },
      "source": [
        "# to Load dataset \n",
        "ds=pd.read_csv(\"train.csv\",sep=\";\")\n",
        "# to print the first few lines\n",
        "ds.head(10)\n"
      ],
      "execution_count": null,
      "outputs": [
        {
          "output_type": "execute_result",
          "data": {
            "text/html": [
              "<div>\n",
              "<style scoped>\n",
              "    .dataframe tbody tr th:only-of-type {\n",
              "        vertical-align: middle;\n",
              "    }\n",
              "\n",
              "    .dataframe tbody tr th {\n",
              "        vertical-align: top;\n",
              "    }\n",
              "\n",
              "    .dataframe thead th {\n",
              "        text-align: right;\n",
              "    }\n",
              "</style>\n",
              "<table border=\"1\" class=\"dataframe\">\n",
              "  <thead>\n",
              "    <tr style=\"text-align: right;\">\n",
              "      <th></th>\n",
              "      <th>age</th>\n",
              "      <th>job</th>\n",
              "      <th>marital</th>\n",
              "      <th>education</th>\n",
              "      <th>default</th>\n",
              "      <th>balance</th>\n",
              "      <th>housing</th>\n",
              "      <th>loan</th>\n",
              "      <th>contact</th>\n",
              "      <th>day</th>\n",
              "      <th>month</th>\n",
              "      <th>duration</th>\n",
              "      <th>campaign</th>\n",
              "      <th>pdays</th>\n",
              "      <th>previous</th>\n",
              "      <th>poutcome</th>\n",
              "      <th>y</th>\n",
              "    </tr>\n",
              "  </thead>\n",
              "  <tbody>\n",
              "    <tr>\n",
              "      <th>0</th>\n",
              "      <td>58</td>\n",
              "      <td>management</td>\n",
              "      <td>married</td>\n",
              "      <td>tertiary</td>\n",
              "      <td>no</td>\n",
              "      <td>2143</td>\n",
              "      <td>yes</td>\n",
              "      <td>no</td>\n",
              "      <td>unknown</td>\n",
              "      <td>5</td>\n",
              "      <td>may</td>\n",
              "      <td>261</td>\n",
              "      <td>1</td>\n",
              "      <td>-1</td>\n",
              "      <td>0</td>\n",
              "      <td>unknown</td>\n",
              "      <td>no</td>\n",
              "    </tr>\n",
              "    <tr>\n",
              "      <th>1</th>\n",
              "      <td>44</td>\n",
              "      <td>technician</td>\n",
              "      <td>single</td>\n",
              "      <td>secondary</td>\n",
              "      <td>no</td>\n",
              "      <td>29</td>\n",
              "      <td>yes</td>\n",
              "      <td>no</td>\n",
              "      <td>unknown</td>\n",
              "      <td>5</td>\n",
              "      <td>may</td>\n",
              "      <td>151</td>\n",
              "      <td>1</td>\n",
              "      <td>-1</td>\n",
              "      <td>0</td>\n",
              "      <td>unknown</td>\n",
              "      <td>no</td>\n",
              "    </tr>\n",
              "    <tr>\n",
              "      <th>2</th>\n",
              "      <td>33</td>\n",
              "      <td>entrepreneur</td>\n",
              "      <td>married</td>\n",
              "      <td>secondary</td>\n",
              "      <td>no</td>\n",
              "      <td>2</td>\n",
              "      <td>yes</td>\n",
              "      <td>yes</td>\n",
              "      <td>unknown</td>\n",
              "      <td>5</td>\n",
              "      <td>may</td>\n",
              "      <td>76</td>\n",
              "      <td>1</td>\n",
              "      <td>-1</td>\n",
              "      <td>0</td>\n",
              "      <td>unknown</td>\n",
              "      <td>no</td>\n",
              "    </tr>\n",
              "    <tr>\n",
              "      <th>3</th>\n",
              "      <td>47</td>\n",
              "      <td>blue-collar</td>\n",
              "      <td>married</td>\n",
              "      <td>unknown</td>\n",
              "      <td>no</td>\n",
              "      <td>1506</td>\n",
              "      <td>yes</td>\n",
              "      <td>no</td>\n",
              "      <td>unknown</td>\n",
              "      <td>5</td>\n",
              "      <td>may</td>\n",
              "      <td>92</td>\n",
              "      <td>1</td>\n",
              "      <td>-1</td>\n",
              "      <td>0</td>\n",
              "      <td>unknown</td>\n",
              "      <td>no</td>\n",
              "    </tr>\n",
              "    <tr>\n",
              "      <th>4</th>\n",
              "      <td>33</td>\n",
              "      <td>unknown</td>\n",
              "      <td>single</td>\n",
              "      <td>unknown</td>\n",
              "      <td>no</td>\n",
              "      <td>1</td>\n",
              "      <td>no</td>\n",
              "      <td>no</td>\n",
              "      <td>unknown</td>\n",
              "      <td>5</td>\n",
              "      <td>may</td>\n",
              "      <td>198</td>\n",
              "      <td>1</td>\n",
              "      <td>-1</td>\n",
              "      <td>0</td>\n",
              "      <td>unknown</td>\n",
              "      <td>no</td>\n",
              "    </tr>\n",
              "    <tr>\n",
              "      <th>5</th>\n",
              "      <td>35</td>\n",
              "      <td>management</td>\n",
              "      <td>married</td>\n",
              "      <td>tertiary</td>\n",
              "      <td>no</td>\n",
              "      <td>231</td>\n",
              "      <td>yes</td>\n",
              "      <td>no</td>\n",
              "      <td>unknown</td>\n",
              "      <td>5</td>\n",
              "      <td>may</td>\n",
              "      <td>139</td>\n",
              "      <td>1</td>\n",
              "      <td>-1</td>\n",
              "      <td>0</td>\n",
              "      <td>unknown</td>\n",
              "      <td>no</td>\n",
              "    </tr>\n",
              "    <tr>\n",
              "      <th>6</th>\n",
              "      <td>28</td>\n",
              "      <td>management</td>\n",
              "      <td>single</td>\n",
              "      <td>tertiary</td>\n",
              "      <td>no</td>\n",
              "      <td>447</td>\n",
              "      <td>yes</td>\n",
              "      <td>yes</td>\n",
              "      <td>unknown</td>\n",
              "      <td>5</td>\n",
              "      <td>may</td>\n",
              "      <td>217</td>\n",
              "      <td>1</td>\n",
              "      <td>-1</td>\n",
              "      <td>0</td>\n",
              "      <td>unknown</td>\n",
              "      <td>no</td>\n",
              "    </tr>\n",
              "    <tr>\n",
              "      <th>7</th>\n",
              "      <td>42</td>\n",
              "      <td>entrepreneur</td>\n",
              "      <td>divorced</td>\n",
              "      <td>tertiary</td>\n",
              "      <td>yes</td>\n",
              "      <td>2</td>\n",
              "      <td>yes</td>\n",
              "      <td>no</td>\n",
              "      <td>unknown</td>\n",
              "      <td>5</td>\n",
              "      <td>may</td>\n",
              "      <td>380</td>\n",
              "      <td>1</td>\n",
              "      <td>-1</td>\n",
              "      <td>0</td>\n",
              "      <td>unknown</td>\n",
              "      <td>no</td>\n",
              "    </tr>\n",
              "    <tr>\n",
              "      <th>8</th>\n",
              "      <td>58</td>\n",
              "      <td>retired</td>\n",
              "      <td>married</td>\n",
              "      <td>primary</td>\n",
              "      <td>no</td>\n",
              "      <td>121</td>\n",
              "      <td>yes</td>\n",
              "      <td>no</td>\n",
              "      <td>unknown</td>\n",
              "      <td>5</td>\n",
              "      <td>may</td>\n",
              "      <td>50</td>\n",
              "      <td>1</td>\n",
              "      <td>-1</td>\n",
              "      <td>0</td>\n",
              "      <td>unknown</td>\n",
              "      <td>no</td>\n",
              "    </tr>\n",
              "    <tr>\n",
              "      <th>9</th>\n",
              "      <td>43</td>\n",
              "      <td>technician</td>\n",
              "      <td>single</td>\n",
              "      <td>secondary</td>\n",
              "      <td>no</td>\n",
              "      <td>593</td>\n",
              "      <td>yes</td>\n",
              "      <td>no</td>\n",
              "      <td>unknown</td>\n",
              "      <td>5</td>\n",
              "      <td>may</td>\n",
              "      <td>55</td>\n",
              "      <td>1</td>\n",
              "      <td>-1</td>\n",
              "      <td>0</td>\n",
              "      <td>unknown</td>\n",
              "      <td>no</td>\n",
              "    </tr>\n",
              "  </tbody>\n",
              "</table>\n",
              "</div>"
            ],
            "text/plain": [
              "   age           job   marital  education default  balance housing loan  \\\n",
              "0   58    management   married   tertiary      no     2143     yes   no   \n",
              "1   44    technician    single  secondary      no       29     yes   no   \n",
              "2   33  entrepreneur   married  secondary      no        2     yes  yes   \n",
              "3   47   blue-collar   married    unknown      no     1506     yes   no   \n",
              "4   33       unknown    single    unknown      no        1      no   no   \n",
              "5   35    management   married   tertiary      no      231     yes   no   \n",
              "6   28    management    single   tertiary      no      447     yes  yes   \n",
              "7   42  entrepreneur  divorced   tertiary     yes        2     yes   no   \n",
              "8   58       retired   married    primary      no      121     yes   no   \n",
              "9   43    technician    single  secondary      no      593     yes   no   \n",
              "\n",
              "   contact  day month  duration  campaign  pdays  previous poutcome   y  \n",
              "0  unknown    5   may       261         1     -1         0  unknown  no  \n",
              "1  unknown    5   may       151         1     -1         0  unknown  no  \n",
              "2  unknown    5   may        76         1     -1         0  unknown  no  \n",
              "3  unknown    5   may        92         1     -1         0  unknown  no  \n",
              "4  unknown    5   may       198         1     -1         0  unknown  no  \n",
              "5  unknown    5   may       139         1     -1         0  unknown  no  \n",
              "6  unknown    5   may       217         1     -1         0  unknown  no  \n",
              "7  unknown    5   may       380         1     -1         0  unknown  no  \n",
              "8  unknown    5   may        50         1     -1         0  unknown  no  \n",
              "9  unknown    5   may        55         1     -1         0  unknown  no  "
            ]
          },
          "metadata": {
            "tags": []
          },
          "execution_count": 2
        }
      ]
    },
    {
      "cell_type": "code",
      "metadata": {
        "colab": {
          "base_uri": "https://localhost:8080/"
        },
        "id": "d2iSoOBxtswd",
        "outputId": "278b4b01-8078-4cb3-ceab-673ff6126354"
      },
      "source": [
        "#the number of colums and rows in the dataset\n",
        "ds.shape"
      ],
      "execution_count": null,
      "outputs": [
        {
          "output_type": "execute_result",
          "data": {
            "text/plain": [
              "(45211, 17)"
            ]
          },
          "metadata": {
            "tags": []
          },
          "execution_count": 3
        }
      ]
    },
    {
      "cell_type": "markdown",
      "metadata": {
        "id": "qIjS58BMv_G7"
      },
      "source": [
        "**Features**:<br>\n",
        "1 - age (numeric) <br>\n",
        "2 - job: type of job\n",
        "(categorical: 'admin.', 'blue-collar', 'entrepreneur' ,'housemaid', 'management', 'retired', 'self-employed',\n",
        "'services', 'student', 'technician', 'unemployed', 'unknown')<br>\n",
        "3 - marital: marital status (categorical: 'divorced', 'married','single', 'unknown'; note: 'divorced' means\n",
        "divorced or widowed)<br>\n",
        "4 - education (categorical: 'basic.4y', 'basic.6y', 'basic.9y', 'high.school',  'illiterate', 'professional.course',\n",
        "'university.degree', 'unknown')<br>\n",
        "5 - default: has credit in default? (categorical: 'no','yes','unknown')\n",
        "<br>\n",
        "6 - balance: average yearly balance, in euros (numeric)\n",
        "<br>7 - housing: has a housing loan? (categorical: 'no','yes','unknown')\n",
        "<br>8 - loan: has personal loan? (categorical: 'no','yes','unknown')\n",
        "<br>9 - contact: contact communication type (categorical: 'cellular','telephone')\n",
        "<br>10 - month: last contact month of year (categorical: 'jan', 'feb', 'mar', ..., 'nov', 'dec')\n",
        "<br>11 - day_of_week: last contact day of the week (categorical: 'mon','tue','wed','thu','fri')\n",
        "<br>12 - duration: last contact duration, in seconds (numeric). Important note: this attribute highly affects\n",
        "the output target (e.g., if duration=0 then y='no'). Yet, the duration is not known before a call is\n",
        "performed. Also, after the end of the call y is obviously known. Thus, this input should only be included\n",
        "for benchmark purposes and should be discarded if the intention is to have a realistic predictive model.<br>13 - campaign: number of contacts performed during this campaign and for this client (numeric,\n",
        "includes last contact)\n",
        "<br>14 - pdays: number of days that passed by after the client was last contacted from a previous campaign\n",
        "(numeric; 999 means client was not previously contacted)<br>\n",
        "15 - previous: number of contacts performed before this campaign and for this client (numeric)<br>\n",
        "16 - poutcome: outcome of the previous marketing campaign (categorical:\n",
        "'failure','nonexistent','success')<br>\n",
        "**Label**<br>\n",
        "17- y - has the client subscribed a term deposit? (binary: \"yes\",\"no\")"
      ]
    },
    {
      "cell_type": "code",
      "metadata": {
        "colab": {
          "base_uri": "https://localhost:8080/",
          "height": 297
        },
        "id": "wzHr8mnTtswg",
        "outputId": "5b6c9467-470e-43b6-af0b-9858ecbbb05a"
      },
      "source": [
        "# To obtain a summary descriptive statstics about the dataset\n",
        "ds.describe()"
      ],
      "execution_count": null,
      "outputs": [
        {
          "output_type": "execute_result",
          "data": {
            "text/html": [
              "<div>\n",
              "<style scoped>\n",
              "    .dataframe tbody tr th:only-of-type {\n",
              "        vertical-align: middle;\n",
              "    }\n",
              "\n",
              "    .dataframe tbody tr th {\n",
              "        vertical-align: top;\n",
              "    }\n",
              "\n",
              "    .dataframe thead th {\n",
              "        text-align: right;\n",
              "    }\n",
              "</style>\n",
              "<table border=\"1\" class=\"dataframe\">\n",
              "  <thead>\n",
              "    <tr style=\"text-align: right;\">\n",
              "      <th></th>\n",
              "      <th>age</th>\n",
              "      <th>balance</th>\n",
              "      <th>day</th>\n",
              "      <th>duration</th>\n",
              "      <th>campaign</th>\n",
              "      <th>pdays</th>\n",
              "      <th>previous</th>\n",
              "    </tr>\n",
              "  </thead>\n",
              "  <tbody>\n",
              "    <tr>\n",
              "      <th>count</th>\n",
              "      <td>45211.000000</td>\n",
              "      <td>45211.000000</td>\n",
              "      <td>45211.000000</td>\n",
              "      <td>45211.000000</td>\n",
              "      <td>45211.000000</td>\n",
              "      <td>45211.000000</td>\n",
              "      <td>45211.000000</td>\n",
              "    </tr>\n",
              "    <tr>\n",
              "      <th>mean</th>\n",
              "      <td>40.936210</td>\n",
              "      <td>1362.272058</td>\n",
              "      <td>15.806419</td>\n",
              "      <td>258.163080</td>\n",
              "      <td>2.763841</td>\n",
              "      <td>40.197828</td>\n",
              "      <td>0.580323</td>\n",
              "    </tr>\n",
              "    <tr>\n",
              "      <th>std</th>\n",
              "      <td>10.618762</td>\n",
              "      <td>3044.765829</td>\n",
              "      <td>8.322476</td>\n",
              "      <td>257.527812</td>\n",
              "      <td>3.098021</td>\n",
              "      <td>100.128746</td>\n",
              "      <td>2.303441</td>\n",
              "    </tr>\n",
              "    <tr>\n",
              "      <th>min</th>\n",
              "      <td>18.000000</td>\n",
              "      <td>-8019.000000</td>\n",
              "      <td>1.000000</td>\n",
              "      <td>0.000000</td>\n",
              "      <td>1.000000</td>\n",
              "      <td>-1.000000</td>\n",
              "      <td>0.000000</td>\n",
              "    </tr>\n",
              "    <tr>\n",
              "      <th>25%</th>\n",
              "      <td>33.000000</td>\n",
              "      <td>72.000000</td>\n",
              "      <td>8.000000</td>\n",
              "      <td>103.000000</td>\n",
              "      <td>1.000000</td>\n",
              "      <td>-1.000000</td>\n",
              "      <td>0.000000</td>\n",
              "    </tr>\n",
              "    <tr>\n",
              "      <th>50%</th>\n",
              "      <td>39.000000</td>\n",
              "      <td>448.000000</td>\n",
              "      <td>16.000000</td>\n",
              "      <td>180.000000</td>\n",
              "      <td>2.000000</td>\n",
              "      <td>-1.000000</td>\n",
              "      <td>0.000000</td>\n",
              "    </tr>\n",
              "    <tr>\n",
              "      <th>75%</th>\n",
              "      <td>48.000000</td>\n",
              "      <td>1428.000000</td>\n",
              "      <td>21.000000</td>\n",
              "      <td>319.000000</td>\n",
              "      <td>3.000000</td>\n",
              "      <td>-1.000000</td>\n",
              "      <td>0.000000</td>\n",
              "    </tr>\n",
              "    <tr>\n",
              "      <th>max</th>\n",
              "      <td>95.000000</td>\n",
              "      <td>102127.000000</td>\n",
              "      <td>31.000000</td>\n",
              "      <td>4918.000000</td>\n",
              "      <td>63.000000</td>\n",
              "      <td>871.000000</td>\n",
              "      <td>275.000000</td>\n",
              "    </tr>\n",
              "  </tbody>\n",
              "</table>\n",
              "</div>"
            ],
            "text/plain": [
              "                age        balance           day      duration      campaign  \\\n",
              "count  45211.000000   45211.000000  45211.000000  45211.000000  45211.000000   \n",
              "mean      40.936210    1362.272058     15.806419    258.163080      2.763841   \n",
              "std       10.618762    3044.765829      8.322476    257.527812      3.098021   \n",
              "min       18.000000   -8019.000000      1.000000      0.000000      1.000000   \n",
              "25%       33.000000      72.000000      8.000000    103.000000      1.000000   \n",
              "50%       39.000000     448.000000     16.000000    180.000000      2.000000   \n",
              "75%       48.000000    1428.000000     21.000000    319.000000      3.000000   \n",
              "max       95.000000  102127.000000     31.000000   4918.000000     63.000000   \n",
              "\n",
              "              pdays      previous  \n",
              "count  45211.000000  45211.000000  \n",
              "mean      40.197828      0.580323  \n",
              "std      100.128746      2.303441  \n",
              "min       -1.000000      0.000000  \n",
              "25%       -1.000000      0.000000  \n",
              "50%       -1.000000      0.000000  \n",
              "75%       -1.000000      0.000000  \n",
              "max      871.000000    275.000000  "
            ]
          },
          "metadata": {
            "tags": []
          },
          "execution_count": 4
        }
      ]
    },
    {
      "cell_type": "code",
      "metadata": {
        "colab": {
          "base_uri": "https://localhost:8080/"
        },
        "id": "32wKebBttswh",
        "outputId": "5cc6fa9b-5e6b-454c-b32f-2f1195af8f9c"
      },
      "source": [
        "ds.info()"
      ],
      "execution_count": null,
      "outputs": [
        {
          "output_type": "stream",
          "text": [
            "<class 'pandas.core.frame.DataFrame'>\n",
            "RangeIndex: 45211 entries, 0 to 45210\n",
            "Data columns (total 17 columns):\n",
            " #   Column     Non-Null Count  Dtype \n",
            "---  ------     --------------  ----- \n",
            " 0   age        45211 non-null  int64 \n",
            " 1   job        45211 non-null  object\n",
            " 2   marital    45211 non-null  object\n",
            " 3   education  45211 non-null  object\n",
            " 4   default    45211 non-null  object\n",
            " 5   balance    45211 non-null  int64 \n",
            " 6   housing    45211 non-null  object\n",
            " 7   loan       45211 non-null  object\n",
            " 8   contact    45211 non-null  object\n",
            " 9   day        45211 non-null  int64 \n",
            " 10  month      45211 non-null  object\n",
            " 11  duration   45211 non-null  int64 \n",
            " 12  campaign   45211 non-null  int64 \n",
            " 13  pdays      45211 non-null  int64 \n",
            " 14  previous   45211 non-null  int64 \n",
            " 15  poutcome   45211 non-null  object\n",
            " 16  y          45211 non-null  object\n",
            "dtypes: int64(7), object(10)\n",
            "memory usage: 5.9+ MB\n"
          ],
          "name": "stdout"
        }
      ]
    },
    {
      "cell_type": "markdown",
      "metadata": {
        "id": "BP8GP80b2Eg8"
      },
      "source": [
        "As we can see that the data contain catigurical and numeric attributes. <br>\n",
        "The numiric are age, balance, day, duration, campaign, pdays and previous.\n",
        "<br> The rest are catigurical."
      ]
    },
    {
      "cell_type": "markdown",
      "metadata": {
        "id": "6YFnqkvNtswj"
      },
      "source": [
        "<a id='Data Cleaning'></a>\n",
        "## Data Cleaning"
      ]
    },
    {
      "cell_type": "code",
      "metadata": {
        "id": "O2pZ-u3EeUR1"
      },
      "source": [
        "def clean_ds(dataset):\n",
        "    #Drop all duplicates from the dataset\n",
        "    dataset.drop_duplicates( inplace=True)\n",
        "    #Drop all null values from the dataset\n",
        "    dataset.dropna(axis=0,inplace=True)"
      ],
      "execution_count": null,
      "outputs": []
    },
    {
      "cell_type": "code",
      "metadata": {
        "colab": {
          "base_uri": "https://localhost:8080/"
        },
        "id": "l8U0lBGJtswe",
        "outputId": "d830db0b-664f-4fe2-c286-e36009c0cc8a"
      },
      "source": [
        "print(\"Data Before cleaning\",ds.shape)\n",
        "clean_ds(ds)\n",
        "print(\"Data After cleaning\",ds.shape)"
      ],
      "execution_count": null,
      "outputs": [
        {
          "output_type": "stream",
          "text": [
            "Data Before cleaning (45211, 17)\n",
            "Data After cleaning (45211, 17)\n"
          ],
          "name": "stdout"
        }
      ]
    },
    {
      "cell_type": "markdown",
      "metadata": {
        "id": "nD6uO6XWtswf"
      },
      "source": [
        "**From that we have known that there are no any duplicated or null values**"
      ]
    },
    {
      "cell_type": "markdown",
      "metadata": {
        "id": "YPu0N5gitswo"
      },
      "source": [
        "<a id='eda'></a>\n",
        "## Data exploration and preprocessing"
      ]
    },
    {
      "cell_type": "markdown",
      "metadata": {
        "id": "GZKmR7sleUR3"
      },
      "source": [
        "#### Is the data balanced or not?"
      ]
    },
    {
      "cell_type": "code",
      "metadata": {
        "id": "A9efuEk8463l",
        "scrolled": true,
        "outputId": "263301f1-2375-4a1b-d0b3-339a11391550"
      },
      "source": [
        "sns.countplot(x=ds.y,data=ds);"
      ],
      "execution_count": null,
      "outputs": [
        {
          "output_type": "display_data",
          "data": {
            "image/png": "[encoded data removed]",
            "text/plain": [
              "<Figure size 432x288 with 1 Axes>"
            ]
          },
          "metadata": {
            "tags": [],
            "needs_background": "light"
          }
        }
      ]
    },
    {
      "cell_type": "markdown",
      "metadata": {
        "id": "2xH7GwWueUR4"
      },
      "source": [
        "**It is obivious that the data is not balanced. <br>\n",
        "After reading about the imbalanced data,we will do the following:<br>**\n",
        "- We will try to use a suitable matric to evaluate our model.\n",
        "- We will try to keep all samples in the rare class and randomly selecting an equal number of samples in the abundant class\n",
        "- We will try to do oversampling and undersampling to the data"
      ]
    },
    {
      "cell_type": "code",
      "metadata": {
        "scrolled": false,
        "id": "Ay2-bmmLeUR4",
        "outputId": "203f7943-3f6e-4c08-86e5-d825f1e25317"
      },
      "source": [
        "print(ds.dtypes)"
      ],
      "execution_count": null,
      "outputs": [
        {
          "output_type": "stream",
          "text": [
            "age           int64\n",
            "job          object\n",
            "marital      object\n",
            "education    object\n",
            "default      object\n",
            "balance       int64\n",
            "housing      object\n",
            "loan         object\n",
            "contact      object\n",
            "day           int64\n",
            "month        object\n",
            "duration      int64\n",
            "campaign      int64\n",
            "pdays         int64\n",
            "previous      int64\n",
            "poutcome     object\n",
            "y            object\n",
            "dtype: object\n"
          ],
          "name": "stdout"
        }
      ]
    },
    {
      "cell_type": "markdown",
      "metadata": {
        "id": "fjizRh7jeUR5"
      },
      "source": [
        "**As we have seen before there are any object datatype therefore, we will convert them to numerical in order to make it easy for us to train the model.**"
      ]
    },
    {
      "cell_type": "code",
      "metadata": {
        "id": "ENQOwVySeUR5"
      },
      "source": [
        "Numeric=[\"age\",\"balance\",\"day\",\"duration\",\"pdays\",\"previous\"]\n",
        "catigorical=[\"job\",\"marital\",\"education\",\"default\",\"housing\",\"loan\",\"contact\",\"month\",\"poutcome\"]"
      ],
      "execution_count": null,
      "outputs": []
    },
    {
      "cell_type": "markdown",
      "metadata": {
        "id": "Ke0cI0tveUR6"
      },
      "source": [
        "**First I will assign 1 to the people who deposit (y= \"yes\") and 0 to the others (y=\"no\").**"
      ]
    },
    {
      "cell_type": "code",
      "metadata": {
        "id": "cHszsOz2eUR6"
      },
      "source": [
        "ds.replace({\"y\":{\"no\": 0,\"yes\":1}}, inplace=True)"
      ],
      "execution_count": null,
      "outputs": []
    },
    {
      "cell_type": "markdown",
      "metadata": {
        "id": "uowMqoMReUR6"
      },
      "source": [
        "**Then I will encode all the catigorical arttributes** "
      ]
    },
    {
      "cell_type": "code",
      "metadata": {
        "id": "m0pObTPOeUR7"
      },
      "source": [
        "def ca_to_num(ds,at):\n",
        "    ds[at] = ds[at].astype('category')\n",
        "    ds[at] = ds[at].cat.codes"
      ],
      "execution_count": null,
      "outputs": []
    },
    {
      "cell_type": "code",
      "metadata": {
        "id": "Rc17RBJZeUR7"
      },
      "source": [
        "for i in catigorical:\n",
        "    ca_to_num(ds,i)"
      ],
      "execution_count": null,
      "outputs": []
    },
    {
      "cell_type": "code",
      "metadata": {
        "scrolled": false,
        "id": "zVivrK61eUR7",
        "outputId": "48a6b5db-41a1-49d4-fb6d-7e5e1938c4ad"
      },
      "source": [
        "ds.head()"
      ],
      "execution_count": null,
      "outputs": [
        {
          "output_type": "execute_result",
          "data": {
            "text/html": [
              "<div>\n",
              "<style scoped>\n",
              "    .dataframe tbody tr th:only-of-type {\n",
              "        vertical-align: middle;\n",
              "    }\n",
              "\n",
              "    .dataframe tbody tr th {\n",
              "        vertical-align: top;\n",
              "    }\n",
              "\n",
              "    .dataframe thead th {\n",
              "        text-align: right;\n",
              "    }\n",
              "</style>\n",
              "<table border=\"1\" class=\"dataframe\">\n",
              "  <thead>\n",
              "    <tr style=\"text-align: right;\">\n",
              "      <th></th>\n",
              "      <th>age</th>\n",
              "      <th>job</th>\n",
              "      <th>marital</th>\n",
              "      <th>education</th>\n",
              "      <th>default</th>\n",
              "      <th>balance</th>\n",
              "      <th>housing</th>\n",
              "      <th>loan</th>\n",
              "      <th>contact</th>\n",
              "      <th>day</th>\n",
              "      <th>month</th>\n",
              "      <th>duration</th>\n",
              "      <th>campaign</th>\n",
              "      <th>pdays</th>\n",
              "      <th>previous</th>\n",
              "      <th>poutcome</th>\n",
              "      <th>y</th>\n",
              "    </tr>\n",
              "  </thead>\n",
              "  <tbody>\n",
              "    <tr>\n",
              "      <th>0</th>\n",
              "      <td>58</td>\n",
              "      <td>4</td>\n",
              "      <td>1</td>\n",
              "      <td>2</td>\n",
              "      <td>0</td>\n",
              "      <td>2143</td>\n",
              "      <td>1</td>\n",
              "      <td>0</td>\n",
              "      <td>2</td>\n",
              "      <td>5</td>\n",
              "      <td>8</td>\n",
              "      <td>261</td>\n",
              "      <td>1</td>\n",
              "      <td>-1</td>\n",
              "      <td>0</td>\n",
              "      <td>3</td>\n",
              "      <td>0</td>\n",
              "    </tr>\n",
              "    <tr>\n",
              "      <th>1</th>\n",
              "      <td>44</td>\n",
              "      <td>9</td>\n",
              "      <td>2</td>\n",
              "      <td>1</td>\n",
              "      <td>0</td>\n",
              "      <td>29</td>\n",
              "      <td>1</td>\n",
              "      <td>0</td>\n",
              "      <td>2</td>\n",
              "      <td>5</td>\n",
              "      <td>8</td>\n",
              "      <td>151</td>\n",
              "      <td>1</td>\n",
              "      <td>-1</td>\n",
              "      <td>0</td>\n",
              "      <td>3</td>\n",
              "      <td>0</td>\n",
              "    </tr>\n",
              "    <tr>\n",
              "      <th>2</th>\n",
              "      <td>33</td>\n",
              "      <td>2</td>\n",
              "      <td>1</td>\n",
              "      <td>1</td>\n",
              "      <td>0</td>\n",
              "      <td>2</td>\n",
              "      <td>1</td>\n",
              "      <td>1</td>\n",
              "      <td>2</td>\n",
              "      <td>5</td>\n",
              "      <td>8</td>\n",
              "      <td>76</td>\n",
              "      <td>1</td>\n",
              "      <td>-1</td>\n",
              "      <td>0</td>\n",
              "      <td>3</td>\n",
              "      <td>0</td>\n",
              "    </tr>\n",
              "    <tr>\n",
              "      <th>3</th>\n",
              "      <td>47</td>\n",
              "      <td>1</td>\n",
              "      <td>1</td>\n",
              "      <td>3</td>\n",
              "      <td>0</td>\n",
              "      <td>1506</td>\n",
              "      <td>1</td>\n",
              "      <td>0</td>\n",
              "      <td>2</td>\n",
              "      <td>5</td>\n",
              "      <td>8</td>\n",
              "      <td>92</td>\n",
              "      <td>1</td>\n",
              "      <td>-1</td>\n",
              "      <td>0</td>\n",
              "      <td>3</td>\n",
              "      <td>0</td>\n",
              "    </tr>\n",
              "    <tr>\n",
              "      <th>4</th>\n",
              "      <td>33</td>\n",
              "      <td>11</td>\n",
              "      <td>2</td>\n",
              "      <td>3</td>\n",
              "      <td>0</td>\n",
              "      <td>1</td>\n",
              "      <td>0</td>\n",
              "      <td>0</td>\n",
              "      <td>2</td>\n",
              "      <td>5</td>\n",
              "      <td>8</td>\n",
              "      <td>198</td>\n",
              "      <td>1</td>\n",
              "      <td>-1</td>\n",
              "      <td>0</td>\n",
              "      <td>3</td>\n",
              "      <td>0</td>\n",
              "    </tr>\n",
              "  </tbody>\n",
              "</table>\n",
              "</div>"
            ],
            "text/plain": [
              "   age  job  marital  education  default  balance  housing  loan  contact  \\\n",
              "0   58    4        1          2        0     2143        1     0        2   \n",
              "1   44    9        2          1        0       29        1     0        2   \n",
              "2   33    2        1          1        0        2        1     1        2   \n",
              "3   47    1        1          3        0     1506        1     0        2   \n",
              "4   33   11        2          3        0        1        0     0        2   \n",
              "\n",
              "   day  month  duration  campaign  pdays  previous  poutcome  y  \n",
              "0    5      8       261         1     -1         0         3  0  \n",
              "1    5      8       151         1     -1         0         3  0  \n",
              "2    5      8        76         1     -1         0         3  0  \n",
              "3    5      8        92         1     -1         0         3  0  \n",
              "4    5      8       198         1     -1         0         3  0  "
            ]
          },
          "metadata": {
            "tags": []
          },
          "execution_count": 14
        }
      ]
    },
    {
      "cell_type": "code",
      "metadata": {
        "scrolled": true,
        "id": "_3B26C80eUR8",
        "outputId": "1f57efb3-1ca0-4566-a253-86aeb8243bbd"
      },
      "source": [
        "ds.dtypes"
      ],
      "execution_count": null,
      "outputs": [
        {
          "output_type": "execute_result",
          "data": {
            "text/plain": [
              "age          int64\n",
              "job           int8\n",
              "marital       int8\n",
              "education     int8\n",
              "default       int8\n",
              "balance      int64\n",
              "housing       int8\n",
              "loan          int8\n",
              "contact       int8\n",
              "day          int64\n",
              "month         int8\n",
              "duration     int64\n",
              "campaign     int64\n",
              "pdays        int64\n",
              "previous     int64\n",
              "poutcome      int8\n",
              "y            int64\n",
              "dtype: object"
            ]
          },
          "metadata": {
            "tags": []
          },
          "execution_count": 15
        }
      ]
    },
    {
      "cell_type": "markdown",
      "metadata": {
        "id": "_kTHrfzueUR8"
      },
      "source": [
        "**Now as we can see all the data are numirical**"
      ]
    },
    {
      "cell_type": "code",
      "metadata": {
        "id": "g1Kbk8QKeUR8",
        "outputId": "16554973-3329-4611-8fae-53d799d8c70a"
      },
      "source": [
        "ds.corr()[\"y\"]"
      ],
      "execution_count": null,
      "outputs": [
        {
          "output_type": "execute_result",
          "data": {
            "text/plain": [
              "age          0.025155\n",
              "job          0.040438\n",
              "marital      0.045588\n",
              "education    0.066241\n",
              "default     -0.022419\n",
              "balance      0.052838\n",
              "housing     -0.139173\n",
              "loan        -0.068185\n",
              "contact     -0.148395\n",
              "day         -0.028348\n",
              "month       -0.024471\n",
              "duration     0.394521\n",
              "campaign    -0.073172\n",
              "pdays        0.103621\n",
              "previous     0.093236\n",
              "poutcome    -0.077840\n",
              "y            1.000000\n",
              "Name: y, dtype: float64"
            ]
          },
          "metadata": {
            "tags": []
          },
          "execution_count": 16
        }
      ]
    },
    {
      "cell_type": "code",
      "metadata": {
        "id": "5oB2By2feUR9",
        "outputId": "bea4a9a4-2bfd-413d-a554-fd2d3d30ae96"
      },
      "source": [
        "d=(dict(ds.corr()[\"y\"]))\n",
        "sorted(d, key=lambda dict_key: abs(d[dict_key]),reverse=True)\n"
      ],
      "execution_count": null,
      "outputs": [
        {
          "output_type": "execute_result",
          "data": {
            "text/plain": [
              "['y',\n",
              " 'duration',\n",
              " 'contact',\n",
              " 'housing',\n",
              " 'pdays',\n",
              " 'previous',\n",
              " 'poutcome',\n",
              " 'campaign',\n",
              " 'loan',\n",
              " 'education',\n",
              " 'balance',\n",
              " 'marital',\n",
              " 'job',\n",
              " 'day',\n",
              " 'age',\n",
              " 'month',\n",
              " 'default']"
            ]
          },
          "metadata": {
            "tags": []
          },
          "execution_count": 17
        }
      ]
    },
    {
      "cell_type": "markdown",
      "metadata": {
        "id": "Mr01p0uQeUR9"
      },
      "source": [
        "I think it is obivious that the correlation between \"y\" and the default, month age and day is verry low. Which mean that we can drop them "
      ]
    },
    {
      "cell_type": "code",
      "metadata": {
        "id": "4y8JaEMxeUR-"
      },
      "source": [
        "dsall=ds"
      ],
      "execution_count": null,
      "outputs": []
    },
    {
      "cell_type": "code",
      "metadata": {
        "id": "c7pMBi8ZeUR-"
      },
      "source": [
        "ds.drop({\"default\",\"month\",\"age\",\"day\"},axis=1,inplace=True)"
      ],
      "execution_count": null,
      "outputs": []
    },
    {
      "cell_type": "markdown",
      "metadata": {
        "id": "2QbrAqbqeUR-"
      },
      "source": [
        "### Letrature Review"
      ]
    },
    {
      "cell_type": "markdown",
      "metadata": {
        "id": "Sv7tsc5ieUR-"
      },
      "source": [
        "In previous papers,they have used LOGISTIC REGRESSION, DECISION TREES, SVM and NEURAL NETWORK. They have reached to 91% as the best accuracy by using Nural netorks. Here, We will try to use different models than the previous used models. We will use RandomForestClassifier, AdaboostClassifier and XgBoostClassifier. Moreover, We care about precision more than ROC as we concern about all the people who will make a deposit (True positive). We want the model to make a correct prediction for all the True positive with mean making false positive near to zero precision= true positive/(true positive+false positive). We will target a precision score 90%."
      ]
    },
    {
      "cell_type": "markdown",
      "metadata": {
        "id": "4YaIEXorV0gl"
      },
      "source": [
        "# Approach and methodology"
      ]
    },
    {
      "cell_type": "markdown",
      "metadata": {
        "id": "NXoL6kTHY6me"
      },
      "source": [
        "First we divided the data set into training set and test set then the random forest approach was applied and we calculated its accuracy and precision.\n",
        "\n",
        "Then AdaBoostClassifier approach was applied and the accuracy and precision were calculated too.\n",
        "\n",
        "Finally, we applied XGBClassifier approach and calculated its accuracy and precision.\n",
        "\n",
        "We compared the three approaches at the end. \n"
      ]
    },
    {
      "cell_type": "markdown",
      "metadata": {
        "id": "aLHae7d2ZBRR"
      },
      "source": [
        "##Oversamping\n",
        "Acknoledge from: https://towardsdatascience.com/sampling-techniques-for-extremely-imbalanced-data-part-ii-over-sampling-d61b43bc4879\n",
        " \n",
        "There are three ways to oversampling in imblearn.over_sampling Library.<br><br> The first one is Randomoversampling. It doplicates more samples from the aboundant class with random samping with replacement. However, this method may lead to overfiting. Because many samples of the majority class will not be included in the dataset as the minority class take place of them. <br><br>\n",
        "The second one is Synthetic Minority Oversampling Technique (SMOTE). It generates new samples from the aboundant class based on the feature space similarities between existing aboundant instances. That is happened by finding  the K-nearest neighbors of each aboundant instance. Then randomly selects one of them. Finaly calculate linear interpolations to produce a new minority instance in the neighborhood.\n",
        "<br><br>\n",
        "The third one is Adaptive Synthetic Sampling (ADASYN).It also generate new samples based on the density distributions. It also finds the K-nearest neighbors of each aboundant instance. But it repeats this proces and  adaptively shifts the decision boundary to focus on those samples that are difficult to learn.\n",
        "\n",
        "we will use the smote method to make our data balanced"
      ]
    },
    {
      "cell_type": "code",
      "metadata": {
        "id": "sXiQ648tZHja"
      },
      "source": [
        "sampler = SMOTE( sampling_strategy='auto',random_state=0)\n",
        "X,y=sampler.fit_resample(X,y)\n",
        "X_train , X_test , y_train , y_test = train_test_split(X,y,test_size = 0.4 , random_state = 10)\n",
        "y.shape,X.shape"
      ],
      "execution_count": null,
      "outputs": []
    },
    {
      "cell_type": "code",
      "metadata": {
        "id": "dmLNk0c4ZNGn"
      },
      "source": [
        "y.value_counts()"
      ],
      "execution_count": null,
      "outputs": []
    },
    {
      "cell_type": "markdown",
      "metadata": {
        "id": "iBIaylocZn7Q"
      },
      "source": [
        "As we can see that number of the samples has been increased because the SMOTE method generetes samples to balance the data"
      ]
    },
    {
      "cell_type": "code",
      "metadata": {
        "id": "LJyxtlSUZTYe"
      },
      "source": [
        ""
      ],
      "execution_count": null,
      "outputs": []
    },
    {
      "cell_type": "markdown",
      "metadata": {
        "id": "fs228jCYWBlL"
      },
      "source": [
        "# Discussion and analysis "
      ]
    },
    {
      "cell_type": "markdown",
      "metadata": {
        "id": "I3si50Q0vesg"
      },
      "source": [
        "## Ethical considerations"
      ]
    },
    {
      "cell_type": "markdown",
      "metadata": {
        "id": "EaJZMSTVvlwQ"
      },
      "source": [
        "\n",
        "1. **Data**\n",
        "\n",
        "Data was collected from an open-sourced, free source. It was collected from bank clients in Portuguese. These data are collected randomly which will ensure fairness while training and testing the model. \n",
        "\n",
        "Also, The correlation between the different features and the target was calculated and the features with low correlation were neglected during the training of model (e.g. \"default\",\"month\",\"age\",\"day)\n",
        "\n",
        "\n",
        "2.   **The algorithm**\n",
        "\n",
        "The algorithms we applied are free sourced and available in python libraries which can be accessed by anyone (No intellectual property theft)\n",
        "3.  **The results:**\n",
        "\n",
        "It was clear that the data is biased as the no answers are much larger than the yes answers (unbalanced data). So in order to get accurate results, some processing was done first before training and testing the model.\n"
      ]
    },
    {
      "cell_type": "markdown",
      "metadata": {
        "id": "Hi-hzI4MWLNR"
      },
      "source": [
        "# Professional responsibility and accountability"
      ]
    },
    {
      "cell_type": "markdown",
      "metadata": {
        "id": "LJ-69Z6Nn9Tj"
      },
      "source": [
        "We are supposed to recheck the concept drift in our models which refers to the unknown and hidden relationship between inputs and output variables.\n",
        "\n",
        "There are some decisions required by the machine learning practitioner to deal with the concept drift such as (Future assumption about the data source, Possible change patterns,Mechanisms adaptivity, Model selection based on particular parametrization)\n",
        "\n",
        "To address the concept drift, we can take many approaches\n",
        "\n",
        "1. Do Nothing (Static Model)\n",
        "2. Periodically Re-Fit\n",
        "3. Periodically Update\n",
        "4. Weight important data\n",
        "5. Learn The Change\n",
        "6. Data Preparation for the change\n",
        "\n",
        "\n"
      ]
    },
    {
      "cell_type": "markdown",
      "metadata": {
        "id": "jalvqNBbtsw5"
      },
      "source": [
        "<a id='conclusions'></a>\n",
        "## Conclusions\n",
        "\n",
        "\n",
        "\n"
      ]
    },
    {
      "cell_type": "markdown",
      "metadata": {
        "id": "gReKhNlOfAP3"
      },
      "source": [
        "We can see that we have a made a relatively efficient recommendation system for the bank marketing team. The recommendation system was based on a Random Forest ML model as it showed better performance compared to other models used in the literature review and in our testing. It managed to achieve accuracy of __%.\n"
      ]
    }
  ]
}